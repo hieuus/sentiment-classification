{
 "cells": [
  {
   "cell_type": "markdown",
   "metadata": {},
   "source": [
    "# ĐỒ ÁN CUỐI KỲ MÔN HỌC THỐNG KÊ _ CQ2021/22 \n",
    "\n",
    "## Text Classification _ Sentiment Analysis"
   ]
  },
  {
   "cell_type": "markdown",
   "metadata": {},
   "source": [
    "### Thành viên nhóm:"
   ]
  },
  {
   "cell_type": "markdown",
   "metadata": {},
   "source": [
    "|<center><div style=\"width:150px\">MSSV</div><center>|<center><div style=\"width:290px\">Họ và tên</div><center>|\n",
    "|---------- |:-------------:|\n",
    "| <center>20120084<center>  |<center>Nguyễn Văn Hiếu<center> |\n",
    "| <center>20120085<center>  | <center>Trần Xuân Hòa<center> |"
   ]
  },
  {
   "cell_type": "markdown",
   "metadata": {},
   "source": [
    "## A. Giới thiệu đề tài "
   ]
  },
  {
   "cell_type": "markdown",
   "metadata": {},
   "source": [
    "### 1. Lý do chọn đề tài \n",
    "\n",
    "- Phân tích cảm xúc dựa trên dữ liệu văn bản là một trong những ứng dụng phổ biến của học máy và xử lý ngôn ngữ tự nhiên. Và nố mang lại nhiều lợi ích thực tiễn: \n",
    "\n",
    "    + Ứng dụng trong kinh doanh khi doanh nghiệp muốn biết ý kiến cũng như sự hài lòng của khách hàng về sản phẩm, dịch vụ của mình. \n",
    "    + Dự đoán xu hướng của thị trường, dựa trên cảm xúc của người dùng với sản phẩm, dịch vụ để điều chỉnh các chiến lược kinh doanh phù hợp.\n",
    "    + Có nhiều bộ dữ liệu về cảm xúc trên mạng xã hội, diễn đàn, trang web,.. giúp việc nghiên cứu và phát triển mô hình phân loại cảm xúc trở nên dễ dàng hơn.\n",
    "\n",
    "### 2. Chọn bộ dữ liệu \n",
    "\n",
    "- Nhóm chọn bộ dữ liệu **Twitter tweets** vì: \n",
    "\n",
    "    + Có lượng dữ liệu lớn và đa dạng: Có hàng triệu tweet được tạo ra mỗi ngày trên Twitter, với nhiều chủ đề khác nhau. Tạo ra một nguồn dữ liệu lớn và đa dạng để phát triển và đánh giá mô hình Sentiment Analysis.\n",
    "    + Dữ liệu có ngôn ngữ đa dạng: Tweet thường được viết theo ngôn ngữ tự nhiên và đa dạng, bao gồm cả việc sử dụng ngôn ngữ không chuẩn, viết tắt và biểu cảm cảm xúc. Điều này tạo ra một thách thức thú vị cho việc phát triển các mô hình Sentiment Analysis có khả năng xử lý ngôn ngữ tự nhiên đa dạng.\n",
    "    + Tính ngắn gọn: Tweet có giới hạn ký tự 280, điều này yêu cầu người dùng phải tóm tắt ý kiến hoặc cảm xúc của họ trong một khoảng thời gian ngắn. \n",
    "    + Thời gian thực: Tweet thường được tạo ra và cập nhật liên tục, điều này giúp cho việc phát triển mô hình Sentiment Analysis có khả năng phản ứng nhanh với cảm xúc mới được thể hiện trên mạng xã hội.\n",
    "\n",
    "### 3. Mô tả bộ dữ liệu \n",
    "\n",
    "- Nhóm sử dụng dữ liệu [**Twitter Tweets Sentiment Dataset**](https://www.kaggle.com/datasets/yasserh/twitter-tweets-sentiment-dataset) được lấy từ Kaglle.\n",
    "- LICENSE của dữ liệu là [**CC0: Public Domain**](https://creativecommons.org/publicdomain/zero/1.0/) - cho phép bất kỳ ai sử dụng, sao chép, sửa đổi, phân phối và thậm chí kinh doanh tác phẩm hoặc dữ liệu đó mà không cần yêu cầu sự cho phép hay phải trả bất kỳ khoản phí nào.\n",
    "\n",
    "**Mô tả dữ liệu:**\n",
    "\n",
    "- Dữ liệu ghi lại các tweet trên Twitter với mỗi hàng là một tweet ghi lại nội dung bài viết của người dùng. Dữ liệu bao gồm `27418` dòng và `4` cột:\n",
    "\n",
    "    + **textID**: ID duy nhất cho mỗi đoạn văn bản.\n",
    "    + **text**: nội dung/văn bản của tweet.\n",
    "    + **sentiment**: nhãn cảm xúc của tweet.\n",
    "    + **selected_text**: một phần của văn bản được chọn để đại diện cho cảm xúc của tweet."
   ]
  },
  {
   "cell_type": "markdown",
   "metadata": {},
   "source": [
    "# B. Xây dựng mô hình phân loại cảm xúc"
   ]
  },
  {
   "cell_type": "markdown",
   "metadata": {},
   "source": [
    "## 0. Import thư viện cần thiết"
   ]
  },
  {
   "cell_type": "code",
   "execution_count": 1,
   "metadata": {},
   "outputs": [],
   "source": [
    "import pandas as pd\n",
    "import numpy as np\n",
    "import matplotlib.pyplot as plt\n",
    "import seaborn as sns\n",
    "\n",
    "sns.set_theme()\n",
    "pd.set_option(\"display.max_colwidth\", 250)\n",
    "\n",
    "import re\n",
    "import string\n",
    "\n",
    "from nltk.sentiment import SentimentIntensityAnalyzer\n",
    "from tqdm.notebook import tqdm\n",
    "import nltk\n",
    "\n",
    "import torch\n",
    "from torch import nn\n",
    "import tensorflow as tf\n",
    "\n",
    "from transformers import Trainer,TrainingArguments\n",
    "from transformers import AutoTokenizer\n",
    "from transformers import AutoModelForSequenceClassification\n",
    "\n",
    "from sklearn.model_selection import train_test_split\n",
    "from sklearn.metrics import f1_score\n",
    "from sklearn.metrics import classification_report\n",
    "\n",
    "import keras\n",
    "from sklearn.feature_extraction.text import TfidfVectorizer\n",
    "from sklearn.naive_bayes import MultinomialNB\n",
    "from sklearn.pipeline import Pipeline\n",
    "from sklearn.preprocessing import LabelEncoder"
   ]
  },
  {
   "cell_type": "markdown",
   "metadata": {},
   "source": [
    "## 1. Data Preprocessing\n",
    "\n",
    "### 1.1. Load data"
   ]
  },
  {
   "cell_type": "code",
   "execution_count": 2,
   "metadata": {},
   "outputs": [
    {
     "data": {
      "text/html": [
       "<div>\n",
       "<style scoped>\n",
       "    .dataframe tbody tr th:only-of-type {\n",
       "        vertical-align: middle;\n",
       "    }\n",
       "\n",
       "    .dataframe tbody tr th {\n",
       "        vertical-align: top;\n",
       "    }\n",
       "\n",
       "    .dataframe thead th {\n",
       "        text-align: right;\n",
       "    }\n",
       "</style>\n",
       "<table border=\"1\" class=\"dataframe\">\n",
       "  <thead>\n",
       "    <tr style=\"text-align: right;\">\n",
       "      <th></th>\n",
       "      <th>textID</th>\n",
       "      <th>text</th>\n",
       "      <th>selected_text</th>\n",
       "      <th>sentiment</th>\n",
       "    </tr>\n",
       "  </thead>\n",
       "  <tbody>\n",
       "    <tr>\n",
       "      <th>0</th>\n",
       "      <td>cb774db0d1</td>\n",
       "      <td>I`d have responded, if I were going</td>\n",
       "      <td>I`d have responded, if I were going</td>\n",
       "      <td>neutral</td>\n",
       "    </tr>\n",
       "    <tr>\n",
       "      <th>1</th>\n",
       "      <td>549e992a42</td>\n",
       "      <td>Sooo SAD I will miss you here in San Diego!!!</td>\n",
       "      <td>Sooo SAD</td>\n",
       "      <td>negative</td>\n",
       "    </tr>\n",
       "    <tr>\n",
       "      <th>2</th>\n",
       "      <td>088c60f138</td>\n",
       "      <td>my boss is bullying me...</td>\n",
       "      <td>bullying me</td>\n",
       "      <td>negative</td>\n",
       "    </tr>\n",
       "    <tr>\n",
       "      <th>3</th>\n",
       "      <td>9642c003ef</td>\n",
       "      <td>what interview! leave me alone</td>\n",
       "      <td>leave me alone</td>\n",
       "      <td>negative</td>\n",
       "    </tr>\n",
       "    <tr>\n",
       "      <th>4</th>\n",
       "      <td>358bd9e861</td>\n",
       "      <td>Sons of ****, why couldn`t they put them on the releases we already bought</td>\n",
       "      <td>Sons of ****,</td>\n",
       "      <td>negative</td>\n",
       "    </tr>\n",
       "  </tbody>\n",
       "</table>\n",
       "</div>"
      ],
      "text/plain": [
       "       textID  \\\n",
       "0  cb774db0d1   \n",
       "1  549e992a42   \n",
       "2  088c60f138   \n",
       "3  9642c003ef   \n",
       "4  358bd9e861   \n",
       "\n",
       "                                                                          text  \\\n",
       "0                                          I`d have responded, if I were going   \n",
       "1                                Sooo SAD I will miss you here in San Diego!!!   \n",
       "2                                                    my boss is bullying me...   \n",
       "3                                               what interview! leave me alone   \n",
       "4   Sons of ****, why couldn`t they put them on the releases we already bought   \n",
       "\n",
       "                         selected_text sentiment  \n",
       "0  I`d have responded, if I were going   neutral  \n",
       "1                             Sooo SAD  negative  \n",
       "2                          bullying me  negative  \n",
       "3                       leave me alone  negative  \n",
       "4                        Sons of ****,  negative  "
      ]
     },
     "execution_count": 2,
     "metadata": {},
     "output_type": "execute_result"
    }
   ],
   "source": [
    "df = pd.read_csv('dataset/train.csv')\n",
    "df.head()"
   ]
  },
  {
   "cell_type": "code",
   "execution_count": 3,
   "metadata": {},
   "outputs": [
    {
     "data": {
      "text/plain": [
       "(27481, 4)"
      ]
     },
     "execution_count": 3,
     "metadata": {},
     "output_type": "execute_result"
    }
   ],
   "source": [
    "df.shape"
   ]
  },
  {
   "cell_type": "markdown",
   "metadata": {},
   "source": [
    "### 1.2. Missing values"
   ]
  },
  {
   "cell_type": "code",
   "execution_count": 4,
   "metadata": {},
   "outputs": [
    {
     "data": {
      "text/plain": [
       "textID           0\n",
       "text             1\n",
       "selected_text    1\n",
       "sentiment        0\n",
       "dtype: int64"
      ]
     },
     "execution_count": 4,
     "metadata": {},
     "output_type": "execute_result"
    }
   ],
   "source": [
    "df.isnull().sum()"
   ]
  },
  {
   "cell_type": "markdown",
   "metadata": {},
   "source": [
    "Qua kiểm tra thì dữ liệu có 1 giá trị thiếu ở 2 cột `text` và `selected_text`."
   ]
  },
  {
   "cell_type": "code",
   "execution_count": 5,
   "metadata": {},
   "outputs": [
    {
     "data": {
      "text/html": [
       "<div>\n",
       "<style scoped>\n",
       "    .dataframe tbody tr th:only-of-type {\n",
       "        vertical-align: middle;\n",
       "    }\n",
       "\n",
       "    .dataframe tbody tr th {\n",
       "        vertical-align: top;\n",
       "    }\n",
       "\n",
       "    .dataframe thead th {\n",
       "        text-align: right;\n",
       "    }\n",
       "</style>\n",
       "<table border=\"1\" class=\"dataframe\">\n",
       "  <thead>\n",
       "    <tr style=\"text-align: right;\">\n",
       "      <th></th>\n",
       "      <th>textID</th>\n",
       "      <th>text</th>\n",
       "      <th>selected_text</th>\n",
       "      <th>sentiment</th>\n",
       "    </tr>\n",
       "  </thead>\n",
       "  <tbody>\n",
       "    <tr>\n",
       "      <th>314</th>\n",
       "      <td>fdb77c3752</td>\n",
       "      <td>NaN</td>\n",
       "      <td>NaN</td>\n",
       "      <td>neutral</td>\n",
       "    </tr>\n",
       "  </tbody>\n",
       "</table>\n",
       "</div>"
      ],
      "text/plain": [
       "         textID text selected_text sentiment\n",
       "314  fdb77c3752  NaN           NaN   neutral"
      ]
     },
     "execution_count": 5,
     "metadata": {},
     "output_type": "execute_result"
    }
   ],
   "source": [
    "df[df.isnull().any(axis=1)]"
   ]
  },
  {
   "cell_type": "markdown",
   "metadata": {},
   "source": [
    "Sau khi kiểm tra thì ta thấy 2 giá trị thiếu ở 2 cột `text` và `selected_text` là ở cùng 1 dòng có thể là lỗi khi thu thập dữ liệu nên nhóm sẽ xóa dòng này. Tuy nhiên nó được gán nhãn `neutral`. Nên ở đây nhóm sẽ thay giá trị `NaN` thành giá trị trống."
   ]
  },
  {
   "cell_type": "code",
   "execution_count": 6,
   "metadata": {},
   "outputs": [
    {
     "data": {
      "text/plain": [
       "textID           0\n",
       "text             0\n",
       "selected_text    0\n",
       "sentiment        0\n",
       "dtype: int64"
      ]
     },
     "execution_count": 6,
     "metadata": {},
     "output_type": "execute_result"
    }
   ],
   "source": [
    "df.fillna(' ',inplace=True)\n",
    "df.isnull().sum()"
   ]
  },
  {
   "cell_type": "markdown",
   "metadata": {},
   "source": [
    "### 1.3. Duplicate values"
   ]
  },
  {
   "cell_type": "code",
   "execution_count": 7,
   "metadata": {},
   "outputs": [
    {
     "data": {
      "text/plain": [
       "0"
      ]
     },
     "execution_count": 7,
     "metadata": {},
     "output_type": "execute_result"
    }
   ],
   "source": [
    "df.duplicated().sum()"
   ]
  },
  {
   "cell_type": "markdown",
   "metadata": {},
   "source": [
    "Qua kiểm tra thì không có dòng nào trùng lặp trong dữ liệu. "
   ]
  },
  {
   "cell_type": "markdown",
   "metadata": {},
   "source": [
    "### 1.4. Type of data"
   ]
  },
  {
   "cell_type": "code",
   "execution_count": 8,
   "metadata": {},
   "outputs": [
    {
     "name": "stdout",
     "output_type": "stream",
     "text": [
      "<class 'pandas.core.frame.DataFrame'>\n",
      "RangeIndex: 27481 entries, 0 to 27480\n",
      "Data columns (total 4 columns):\n",
      " #   Column         Non-Null Count  Dtype \n",
      "---  ------         --------------  ----- \n",
      " 0   textID         27481 non-null  object\n",
      " 1   text           27481 non-null  object\n",
      " 2   selected_text  27481 non-null  object\n",
      " 3   sentiment      27481 non-null  object\n",
      "dtypes: object(4)\n",
      "memory usage: 858.9+ KB\n"
     ]
    }
   ],
   "source": [
    "df.info()"
   ]
  },
  {
   "cell_type": "code",
   "execution_count": 9,
   "metadata": {},
   "outputs": [
    {
     "data": {
      "text/plain": [
       "True"
      ]
     },
     "execution_count": 9,
     "metadata": {},
     "output_type": "execute_result"
    }
   ],
   "source": [
    "df['selected_text'][0] in df['text'][0]"
   ]
  },
  {
   "cell_type": "markdown",
   "metadata": {},
   "source": [
    "### 1.5. Data Cleaning"
   ]
  },
  {
   "cell_type": "code",
   "execution_count": 10,
   "metadata": {},
   "outputs": [],
   "source": [
    "# Xóa tên người dùng khỏi các tweet\n",
    "def remove_usernames(text):\n",
    "    return ' '.join(word for word in text.split(' ') if not word.startswith('@'))"
   ]
  },
  {
   "cell_type": "code",
   "execution_count": 11,
   "metadata": {},
   "outputs": [],
   "source": [
    "# Xóa các đường dẫn\n",
    "def remove_URL(text):\n",
    "    url = re.compile(r'https?://\\S+|www\\.\\S+')\n",
    "    return url.sub(r'', text)\n",
    "\n",
    "# Xóa html\n",
    "def remove_html(text):\n",
    "    html = re.compile(r'<.*?>')\n",
    "    return html.sub(r'', text)\n",
    "\n",
    "# Xóa emoji và icon\n",
    "def remove_emoji(text):\n",
    "    emoji_pattern = re.compile(\"[\"\n",
    "                           u\"\\U0001F600-\\U0001F64F\"  # emoticons\n",
    "                           u\"\\U0001F300-\\U0001F5FF\"  # symbols & pictographs\n",
    "                           u\"\\U0001F680-\\U0001F6FF\"  # transport & map symbols\n",
    "                           u\"\\U0001F1E0-\\U0001F1FF\"  # flags (iOS)\n",
    "                           u\"\\U00002702-\\U000027B0\"\n",
    "                           u\"\\U000024C2-\\U0001F251\"\n",
    "                           \"]+\", flags=re.UNICODE)\n",
    "    return emoji_pattern.sub(r'', text)\n",
    "\n",
    "# Xóa dấu câu\n",
    "def remove_punct(text):\n",
    "    table = str.maketrans('', '', string.punctuation)\n",
    "    return text.translate(table)\n",
    "\n",
    "# Loại bỏ các khoảng trắng thừa\n",
    "def remove_whitespace(text):\n",
    "    return re.sub('\\s+', ' ', text).strip()"
   ]
  },
  {
   "cell_type": "code",
   "execution_count": 12,
   "metadata": {},
   "outputs": [],
   "source": [
    "df1 = df.copy()"
   ]
  },
  {
   "cell_type": "code",
   "execution_count": 13,
   "metadata": {},
   "outputs": [],
   "source": [
    "# Làm sạch dữ liệu chuyển về chữ thường\n",
    "def clean_text(text):\n",
    "    text = remove_usernames(text)\n",
    "    text = remove_URL(text)\n",
    "    text = remove_html(text)\n",
    "    text = remove_emoji(text)\n",
    "    text = remove_punct(text)\n",
    "    text = remove_whitespace(text)\n",
    "    return text.lower()\n",
    "\n",
    "df1['selected_text'] = df1['selected_text'].apply(clean_text)"
   ]
  },
  {
   "cell_type": "markdown",
   "metadata": {},
   "source": [
    "### 2. Data Exploring"
   ]
  },
  {
   "cell_type": "code",
   "execution_count": 14,
   "metadata": {},
   "outputs": [],
   "source": [
    "df0 = df.copy()\n",
    "df0 = df0.drop(columns=['textID','text'])\n",
    "\n",
    "df1 = df1.drop(columns=['textID','text'])"
   ]
  },
  {
   "cell_type": "markdown",
   "metadata": {},
   "source": [
    "- Tính điểm phân tích cảm xúc dựa trên `SentimentIntensityAnalyzer`, nó là một công cụ phân tích cảm xúc trong thư viện Natural Language Toolkit (NLTK) của Python. Nó được thiết kế để đánh giá và phân loại cảm xúc của văn bản đầu vào. Sử dụng phương thức polarity_scores() để đánh giá cảm xúc của một đoạn văn bản. Trả về các giá trị sau:\n",
    "    `neg`: Điểm số cảm xúc tiêu cực.\n",
    "    `neu`: Điểm số cảm xúc trung lập.\n",
    "    `pos`: Điểm số cảm xúc tích cực.\n",
    "    `compound`: Điểm số tổng hợp, đại diện cho cảm xúc tổng thể của văn bản (từ -1 đến 1, trong đó giá trị dương là cảm xúc tích cực và giá trị âm là cảm xúc tiêu cực).\n",
    "\n",
    "--> Đánh giá nhanh chóng, tự động và có độ chính xác cao.\n",
    "\n",
    "- Tạo 2 DataFrame: 1 DataFrame phân tích cảm xúc của thuộc tính `selected_text` không thực hiện xóa các ký tự đặc biệt và có thực hiện xóa các ký tự đặc biệt. Để so sánh kết quả phân tích cảm xúc giữa 2 DataFrame. "
   ]
  },
  {
   "cell_type": "code",
   "execution_count": 15,
   "metadata": {},
   "outputs": [
    {
     "data": {
      "application/vnd.jupyter.widget-view+json": {
       "model_id": "c3148b27307947b0b1d12638aabf8978",
       "version_major": 2,
       "version_minor": 0
      },
      "text/plain": [
       "  0%|          | 0/27481 [00:00<?, ?it/s]"
      ]
     },
     "metadata": {},
     "output_type": "display_data"
    },
    {
     "data": {
      "application/vnd.jupyter.widget-view+json": {
       "model_id": "5314ee59f5d443ef991c76d66a04acc6",
       "version_major": 2,
       "version_minor": 0
      },
      "text/plain": [
       "  0%|          | 0/27481 [00:00<?, ?it/s]"
      ]
     },
     "metadata": {},
     "output_type": "display_data"
    }
   ],
   "source": [
    "sia = SentimentIntensityAnalyzer()\n",
    "\n",
    "res = {}\n",
    "for i, row in tqdm(df0.iterrows(), total = len(df0)):\n",
    "    text = row['selected_text']\n",
    "    res[i] = sia.polarity_scores(text)\n",
    "res_nomalize={}\n",
    "for i, row in tqdm(df1.iterrows(), total = len(df1)):\n",
    "    text = row['selected_text']\n",
    "    res_nomalize[i] = sia.polarity_scores(text)"
   ]
  },
  {
   "cell_type": "code",
   "execution_count": 16,
   "metadata": {},
   "outputs": [
    {
     "data": {
      "text/html": [
       "<div>\n",
       "<style scoped>\n",
       "    .dataframe tbody tr th:only-of-type {\n",
       "        vertical-align: middle;\n",
       "    }\n",
       "\n",
       "    .dataframe tbody tr th {\n",
       "        vertical-align: top;\n",
       "    }\n",
       "\n",
       "    .dataframe thead th {\n",
       "        text-align: right;\n",
       "    }\n",
       "</style>\n",
       "<table border=\"1\" class=\"dataframe\">\n",
       "  <thead>\n",
       "    <tr style=\"text-align: right;\">\n",
       "      <th></th>\n",
       "      <th>neg</th>\n",
       "      <th>neu</th>\n",
       "      <th>pos</th>\n",
       "      <th>compound</th>\n",
       "    </tr>\n",
       "  </thead>\n",
       "  <tbody>\n",
       "    <tr>\n",
       "      <th>0</th>\n",
       "      <td>0.000</td>\n",
       "      <td>1.000</td>\n",
       "      <td>0.0</td>\n",
       "      <td>0.0000</td>\n",
       "    </tr>\n",
       "    <tr>\n",
       "      <th>1</th>\n",
       "      <td>0.793</td>\n",
       "      <td>0.207</td>\n",
       "      <td>0.0</td>\n",
       "      <td>-0.5904</td>\n",
       "    </tr>\n",
       "    <tr>\n",
       "      <th>2</th>\n",
       "      <td>0.796</td>\n",
       "      <td>0.204</td>\n",
       "      <td>0.0</td>\n",
       "      <td>-0.5994</td>\n",
       "    </tr>\n",
       "    <tr>\n",
       "      <th>3</th>\n",
       "      <td>0.762</td>\n",
       "      <td>0.238</td>\n",
       "      <td>0.0</td>\n",
       "      <td>-0.2960</td>\n",
       "    </tr>\n",
       "    <tr>\n",
       "      <th>4</th>\n",
       "      <td>0.000</td>\n",
       "      <td>1.000</td>\n",
       "      <td>0.0</td>\n",
       "      <td>0.0000</td>\n",
       "    </tr>\n",
       "  </tbody>\n",
       "</table>\n",
       "</div>"
      ],
      "text/plain": [
       "     neg    neu  pos  compound\n",
       "0  0.000  1.000  0.0    0.0000\n",
       "1  0.793  0.207  0.0   -0.5904\n",
       "2  0.796  0.204  0.0   -0.5994\n",
       "3  0.762  0.238  0.0   -0.2960\n",
       "4  0.000  1.000  0.0    0.0000"
      ]
     },
     "metadata": {},
     "output_type": "display_data"
    },
    {
     "data": {
      "text/html": [
       "<div>\n",
       "<style scoped>\n",
       "    .dataframe tbody tr th:only-of-type {\n",
       "        vertical-align: middle;\n",
       "    }\n",
       "\n",
       "    .dataframe tbody tr th {\n",
       "        vertical-align: top;\n",
       "    }\n",
       "\n",
       "    .dataframe thead th {\n",
       "        text-align: right;\n",
       "    }\n",
       "</style>\n",
       "<table border=\"1\" class=\"dataframe\">\n",
       "  <thead>\n",
       "    <tr style=\"text-align: right;\">\n",
       "      <th></th>\n",
       "      <th>neg</th>\n",
       "      <th>neu</th>\n",
       "      <th>pos</th>\n",
       "      <th>compound</th>\n",
       "    </tr>\n",
       "  </thead>\n",
       "  <tbody>\n",
       "    <tr>\n",
       "      <th>0</th>\n",
       "      <td>0.000</td>\n",
       "      <td>1.000</td>\n",
       "      <td>0.0</td>\n",
       "      <td>0.0000</td>\n",
       "    </tr>\n",
       "    <tr>\n",
       "      <th>1</th>\n",
       "      <td>0.756</td>\n",
       "      <td>0.244</td>\n",
       "      <td>0.0</td>\n",
       "      <td>-0.4767</td>\n",
       "    </tr>\n",
       "    <tr>\n",
       "      <th>2</th>\n",
       "      <td>0.796</td>\n",
       "      <td>0.204</td>\n",
       "      <td>0.0</td>\n",
       "      <td>-0.5994</td>\n",
       "    </tr>\n",
       "    <tr>\n",
       "      <th>3</th>\n",
       "      <td>0.762</td>\n",
       "      <td>0.238</td>\n",
       "      <td>0.0</td>\n",
       "      <td>-0.2960</td>\n",
       "    </tr>\n",
       "    <tr>\n",
       "      <th>4</th>\n",
       "      <td>0.000</td>\n",
       "      <td>1.000</td>\n",
       "      <td>0.0</td>\n",
       "      <td>0.0000</td>\n",
       "    </tr>\n",
       "  </tbody>\n",
       "</table>\n",
       "</div>"
      ],
      "text/plain": [
       "     neg    neu  pos  compound\n",
       "0  0.000  1.000  0.0    0.0000\n",
       "1  0.756  0.244  0.0   -0.4767\n",
       "2  0.796  0.204  0.0   -0.5994\n",
       "3  0.762  0.238  0.0   -0.2960\n",
       "4  0.000  1.000  0.0    0.0000"
      ]
     },
     "metadata": {},
     "output_type": "display_data"
    }
   ],
   "source": [
    "point = pd.DataFrame(res).T\n",
    "point_=pd.DataFrame(res_nomalize).T\n",
    "display(point.head())\n",
    "display(point_.head())"
   ]
  },
  {
   "cell_type": "code",
   "execution_count": 17,
   "metadata": {},
   "outputs": [
    {
     "data": {
      "text/html": [
       "<div>\n",
       "<style scoped>\n",
       "    .dataframe tbody tr th:only-of-type {\n",
       "        vertical-align: middle;\n",
       "    }\n",
       "\n",
       "    .dataframe tbody tr th {\n",
       "        vertical-align: top;\n",
       "    }\n",
       "\n",
       "    .dataframe thead th {\n",
       "        text-align: right;\n",
       "    }\n",
       "</style>\n",
       "<table border=\"1\" class=\"dataframe\">\n",
       "  <thead>\n",
       "    <tr style=\"text-align: right;\">\n",
       "      <th></th>\n",
       "      <th>neg</th>\n",
       "      <th>neu</th>\n",
       "      <th>pos</th>\n",
       "      <th>compound</th>\n",
       "      <th>selected_text</th>\n",
       "      <th>sentiment</th>\n",
       "    </tr>\n",
       "  </thead>\n",
       "  <tbody>\n",
       "    <tr>\n",
       "      <th>0</th>\n",
       "      <td>0.000</td>\n",
       "      <td>1.000</td>\n",
       "      <td>0.0</td>\n",
       "      <td>0.0000</td>\n",
       "      <td>I`d have responded, if I were going</td>\n",
       "      <td>neutral</td>\n",
       "    </tr>\n",
       "    <tr>\n",
       "      <th>1</th>\n",
       "      <td>0.793</td>\n",
       "      <td>0.207</td>\n",
       "      <td>0.0</td>\n",
       "      <td>-0.5904</td>\n",
       "      <td>Sooo SAD</td>\n",
       "      <td>negative</td>\n",
       "    </tr>\n",
       "    <tr>\n",
       "      <th>2</th>\n",
       "      <td>0.796</td>\n",
       "      <td>0.204</td>\n",
       "      <td>0.0</td>\n",
       "      <td>-0.5994</td>\n",
       "      <td>bullying me</td>\n",
       "      <td>negative</td>\n",
       "    </tr>\n",
       "    <tr>\n",
       "      <th>3</th>\n",
       "      <td>0.762</td>\n",
       "      <td>0.238</td>\n",
       "      <td>0.0</td>\n",
       "      <td>-0.2960</td>\n",
       "      <td>leave me alone</td>\n",
       "      <td>negative</td>\n",
       "    </tr>\n",
       "    <tr>\n",
       "      <th>4</th>\n",
       "      <td>0.000</td>\n",
       "      <td>1.000</td>\n",
       "      <td>0.0</td>\n",
       "      <td>0.0000</td>\n",
       "      <td>Sons of ****,</td>\n",
       "      <td>negative</td>\n",
       "    </tr>\n",
       "  </tbody>\n",
       "</table>\n",
       "</div>"
      ],
      "text/plain": [
       "     neg    neu  pos  compound                        selected_text sentiment\n",
       "0  0.000  1.000  0.0    0.0000  I`d have responded, if I were going   neutral\n",
       "1  0.793  0.207  0.0   -0.5904                             Sooo SAD  negative\n",
       "2  0.796  0.204  0.0   -0.5994                          bullying me  negative\n",
       "3  0.762  0.238  0.0   -0.2960                       leave me alone  negative\n",
       "4  0.000  1.000  0.0    0.0000                        Sons of ****,  negative"
      ]
     },
     "metadata": {},
     "output_type": "display_data"
    },
    {
     "data": {
      "text/html": [
       "<div>\n",
       "<style scoped>\n",
       "    .dataframe tbody tr th:only-of-type {\n",
       "        vertical-align: middle;\n",
       "    }\n",
       "\n",
       "    .dataframe tbody tr th {\n",
       "        vertical-align: top;\n",
       "    }\n",
       "\n",
       "    .dataframe thead th {\n",
       "        text-align: right;\n",
       "    }\n",
       "</style>\n",
       "<table border=\"1\" class=\"dataframe\">\n",
       "  <thead>\n",
       "    <tr style=\"text-align: right;\">\n",
       "      <th></th>\n",
       "      <th>neg</th>\n",
       "      <th>neu</th>\n",
       "      <th>pos</th>\n",
       "      <th>compound</th>\n",
       "      <th>selected_text</th>\n",
       "      <th>sentiment</th>\n",
       "    </tr>\n",
       "  </thead>\n",
       "  <tbody>\n",
       "    <tr>\n",
       "      <th>0</th>\n",
       "      <td>0.000</td>\n",
       "      <td>1.000</td>\n",
       "      <td>0.0</td>\n",
       "      <td>0.0000</td>\n",
       "      <td>id have responded if i were going</td>\n",
       "      <td>neutral</td>\n",
       "    </tr>\n",
       "    <tr>\n",
       "      <th>1</th>\n",
       "      <td>0.756</td>\n",
       "      <td>0.244</td>\n",
       "      <td>0.0</td>\n",
       "      <td>-0.4767</td>\n",
       "      <td>sooo sad</td>\n",
       "      <td>negative</td>\n",
       "    </tr>\n",
       "    <tr>\n",
       "      <th>2</th>\n",
       "      <td>0.796</td>\n",
       "      <td>0.204</td>\n",
       "      <td>0.0</td>\n",
       "      <td>-0.5994</td>\n",
       "      <td>bullying me</td>\n",
       "      <td>negative</td>\n",
       "    </tr>\n",
       "    <tr>\n",
       "      <th>3</th>\n",
       "      <td>0.762</td>\n",
       "      <td>0.238</td>\n",
       "      <td>0.0</td>\n",
       "      <td>-0.2960</td>\n",
       "      <td>leave me alone</td>\n",
       "      <td>negative</td>\n",
       "    </tr>\n",
       "    <tr>\n",
       "      <th>4</th>\n",
       "      <td>0.000</td>\n",
       "      <td>1.000</td>\n",
       "      <td>0.0</td>\n",
       "      <td>0.0000</td>\n",
       "      <td>sons of</td>\n",
       "      <td>negative</td>\n",
       "    </tr>\n",
       "  </tbody>\n",
       "</table>\n",
       "</div>"
      ],
      "text/plain": [
       "     neg    neu  pos  compound                      selected_text sentiment\n",
       "0  0.000  1.000  0.0    0.0000  id have responded if i were going   neutral\n",
       "1  0.756  0.244  0.0   -0.4767                           sooo sad  negative\n",
       "2  0.796  0.204  0.0   -0.5994                        bullying me  negative\n",
       "3  0.762  0.238  0.0   -0.2960                     leave me alone  negative\n",
       "4  0.000  1.000  0.0    0.0000                            sons of  negative"
      ]
     },
     "metadata": {},
     "output_type": "display_data"
    }
   ],
   "source": [
    "point = point.merge(df0, on=point.index, how=\"left\")\n",
    "point.drop(columns={\"key_0\"}, axis=1, inplace=True )\n",
    "\n",
    "point_ = point_.merge(df1, on=point_.index, how=\"left\")\n",
    "point_.drop(columns={\"key_0\"}, axis=1, inplace=True )\n",
    "\n",
    "display(point.head())\n",
    "display(point_.head())"
   ]
  },
  {
   "cell_type": "code",
   "execution_count": 18,
   "metadata": {},
   "outputs": [
    {
     "data": {
      "image/png": "[encoded data removed]",
      "text/plain": [
       "<Figure size 1200x400 with 2 Axes>"
      ]
     },
     "metadata": {},
     "output_type": "display_data"
    }
   ],
   "source": [
    "fig, axs = plt.subplots(1,2, figsize=(12,4), constrained_layout=True)\n",
    "sns.barplot(data=point, x=\"sentiment\", y=\"compound\",ax=axs[0])\n",
    "axs[0].set_xlabel(\"Sentiment with special characters\")\n",
    "\n",
    "sns.barplot(data=point_, x=\"sentiment\", y=\"compound\",ax=axs[1])\n",
    "axs[1].set_xlabel(\"Sentiment without special characters\")\n",
    "\n",
    "plt.suptitle(\"Compound Score of Tweet\")\n",
    "plt.show()"
   ]
  },
  {
   "cell_type": "code",
   "execution_count": 19,
   "metadata": {},
   "outputs": [
    {
     "data": {
      "image/png": "[encoded data removed]",
      "text/plain": [
       "<Figure size 1200x800 with 6 Axes>"
      ]
     },
     "metadata": {},
     "output_type": "display_data"
    }
   ],
   "source": [
    "fig, axs = plt.subplots(2,3, figsize=(12,8))\n",
    "\n",
    "sns.barplot(data=point, x=\"sentiment\", y=\"pos\", ax=axs[0][0]).set(xlabel=None)\n",
    "sns.barplot(data=point, x=\"sentiment\", y=\"neg\", ax=axs[0][1]).set(xlabel=None)\n",
    "sns.barplot(data=point, x=\"sentiment\", y=\"neu\", ax=axs[0][2]).set(xlabel=None)\n",
    "\n",
    "sns.barplot(data=point_, x=\"sentiment\", y=\"pos\", ax=axs[1][0])\n",
    "sns.barplot(data=point_, x=\"sentiment\", y=\"neg\", ax=axs[1][1])\n",
    "sns.barplot(data=point_, x=\"sentiment\", y=\"neu\", ax=axs[1][2])\n",
    "\n",
    "axs[0][0].set_title('Positive')\n",
    "axs[0][1].set_title('Negative')\n",
    "axs[0][2].set_title('Neutral')\n",
    "\n",
    "axs[0][1].text(0.5, 1.12, \"Sentiment with special characters\", ha='center', va='center', transform=axs[0][1].transAxes)\n",
    "axs[1][1].text(0.5, 1.05, \"Sentiment without special characters\", ha='center', va='center', transform=axs[1][1].transAxes)\n",
    "\n",
    "fig.tight_layout(pad=0.5)\n",
    "plt.suptitle(\"Sentiment score of each components in a tweet\",y=1.05,fontsize=16)\n",
    "plt.show()"
   ]
  },
  {
   "cell_type": "markdown",
   "metadata": {},
   "source": [
    "- Qua 2 biểu đồ trên, ta thấy phân phối cảm xúc (Sentiment Analysis) của văn bản không thực hiện xóa các ký tự đặc biệt và có thực hiện xóa các ký tự đặc biệt không có sự thay đổi lớn. Điều này cho thấy việc xóa các ký tự đặc biệt không ảnh hưởng nhiều đến cảm xúc trong văn bản của người dùng."
   ]
  },
  {
   "cell_type": "markdown",
   "metadata": {},
   "source": [
    "### 3. Future Engineering\n",
    "\n",
    "#### 3.1. Normalization"
   ]
  },
  {
   "cell_type": "code",
   "execution_count": 20,
   "metadata": {},
   "outputs": [
    {
     "data": {
      "text/plain": [
       "neutral     11118\n",
       "positive     8582\n",
       "negative     7781\n",
       "Name: sentiment, dtype: int64"
      ]
     },
     "execution_count": 20,
     "metadata": {},
     "output_type": "execute_result"
    }
   ],
   "source": [
    "df['sentiment'].value_counts()"
   ]
  },
  {
   "cell_type": "code",
   "execution_count": 21,
   "metadata": {},
   "outputs": [],
   "source": [
    "df['sentiment'] = df['sentiment'].map({'neutral': 0, 'positive': 1, 'negative': -1})"
   ]
  },
  {
   "cell_type": "code",
   "execution_count": 22,
   "metadata": {},
   "outputs": [
    {
     "data": {
      "text/plain": [
       "Text(0.5, 1.0, 'Distribution of Sentiments')"
      ]
     },
     "execution_count": 22,
     "metadata": {},
     "output_type": "execute_result"
    },
    {
     "data": {
      "image/png": "[encoded data removed]",
      "text/plain": [
       "<Figure size 800x600 with 1 Axes>"
      ]
     },
     "metadata": {},
     "output_type": "display_data"
    }
   ],
   "source": [
    "plt.figure(figsize=(8,6))\n",
    "df.sentiment.value_counts().plot(kind='bar')\n",
    "plt.title('Distribution of Sentiments')"
   ]
  },
  {
   "cell_type": "code",
   "execution_count": 23,
   "metadata": {},
   "outputs": [],
   "source": [
    "X = df['selected_text']\n",
    "y = df['sentiment']"
   ]
  },
  {
   "cell_type": "code",
   "execution_count": 24,
   "metadata": {},
   "outputs": [],
   "source": [
    "X_train, X_val, y_train, y_val = train_test_split(X, y, test_size=0.3, random_state=42)\n",
    "X_val, X_test, y_val, y_test = train_test_split(X_val, y_val, test_size=0.5, random_state=42)"
   ]
  },
  {
   "cell_type": "markdown",
   "metadata": {},
   "source": [
    "### 4. Modeling"
   ]
  },
  {
   "cell_type": "markdown",
   "metadata": {},
   "source": [
    "#### 4.1. Multinomial Naive Bayes"
   ]
  },
  {
   "cell_type": "code",
   "execution_count": 25,
   "metadata": {},
   "outputs": [],
   "source": [
    "pipe = Pipeline([('tfidf_vectorizer',TfidfVectorizer(lowercase = True,\n",
    "                                                     stop_words = 'english',\n",
    "                                                    analyzer = 'word')),\n",
    "                 \n",
    "                 ('naive_bayes', MultinomialNB())])"
   ]
  },
  {
   "cell_type": "code",
   "execution_count": 26,
   "metadata": {},
   "outputs": [],
   "source": [
    "le = LabelEncoder()\n",
    "y_train = le.fit_transform(y_train)\n",
    "y_val = le.transform(y_val)\n",
    "y_test = le.transform(y_test)"
   ]
  },
  {
   "cell_type": "code",
   "execution_count": 27,
   "metadata": {},
   "outputs": [
    {
     "name": "stdout",
     "output_type": "stream",
     "text": [
      "              precision    recall  f1-score   support\n",
      "\n",
      "           0       0.88      0.61      0.72      1184\n",
      "           1       0.70      0.91      0.79      1686\n",
      "           2       0.86      0.77      0.81      1252\n",
      "\n",
      "    accuracy                           0.78      4122\n",
      "   macro avg       0.81      0.76      0.77      4122\n",
      "weighted avg       0.80      0.78      0.78      4122\n",
      "\n",
      "              precision    recall  f1-score   support\n",
      "\n",
      "           0       0.89      0.57      0.69      1154\n",
      "           1       0.68      0.91      0.78      1685\n",
      "           2       0.88      0.77      0.82      1284\n",
      "\n",
      "    accuracy                           0.77      4123\n",
      "   macro avg       0.81      0.75      0.76      4123\n",
      "weighted avg       0.80      0.77      0.77      4123\n",
      "\n"
     ]
    }
   ],
   "source": [
    "pipe.fit(X_train, y_train)\n",
    "\n",
    "# Dự đoán và đánh giá mô hình\n",
    "y_pred = pipe.predict(X_val)\n",
    "print(classification_report(y_val, y_pred))\n",
    "\n",
    "# Dự đoán trên tập kiểm tra\n",
    "y_test_pred = pipe.predict(X_test)\n",
    "print(classification_report(y_test, y_test_pred))"
   ]
  },
  {
   "cell_type": "markdown",
   "metadata": {},
   "source": [
    "#### 4.2. Bert Model"
   ]
  },
  {
   "cell_type": "code",
   "execution_count": 28,
   "metadata": {},
   "outputs": [],
   "source": [
    "import torch\n",
    "from transformers import BertTokenizer, BertForSequenceClassification\n",
    "from torch.utils.data import DataLoader, TensorDataset\n",
    "from sklearn.metrics import classification_report"
   ]
  },
  {
   "cell_type": "code",
   "execution_count": 29,
   "metadata": {},
   "outputs": [
    {
     "name": "stderr",
     "output_type": "stream",
     "text": [
      "Some weights of the model checkpoint at bert-base-uncased were not used when initializing BertForSequenceClassification: ['cls.predictions.transform.LayerNorm.bias', 'cls.predictions.transform.dense.weight', 'cls.seq_relationship.weight', 'cls.seq_relationship.bias', 'cls.predictions.transform.dense.bias', 'cls.predictions.decoder.weight', 'cls.predictions.bias', 'cls.predictions.transform.LayerNorm.weight']\n",
      "- This IS expected if you are initializing BertForSequenceClassification from the checkpoint of a model trained on another task or with another architecture (e.g. initializing a BertForSequenceClassification model from a BertForPreTraining model).\n",
      "- This IS NOT expected if you are initializing BertForSequenceClassification from the checkpoint of a model that you expect to be exactly identical (initializing a BertForSequenceClassification model from a BertForSequenceClassification model).\n",
      "Some weights of BertForSequenceClassification were not initialized from the model checkpoint at bert-base-uncased and are newly initialized: ['classifier.weight', 'classifier.bias']\n",
      "You should probably TRAIN this model on a down-stream task to be able to use it for predictions and inference.\n",
      "e:\\Conda\\Anaconda\\lib\\site-packages\\transformers\\tokenization_utils_base.py:2304: FutureWarning: The `pad_to_max_length` argument is deprecated and will be removed in a future version, use `padding=True` or `padding='longest'` to pad to the longest sequence in the batch, or use `padding='max_length'` to pad to a max length. In this case, you can give a specific length with `max_length` (e.g. `max_length=45`) or leave max_length to None to pad to the maximal input size of the model (e.g. 512 for Bert).\n",
      "  warnings.warn(\n"
     ]
    }
   ],
   "source": [
    "# Tải pre-trained BERT model và tokenizer\n",
    "model_name = 'bert-base-uncased'\n",
    "tokenizer = BertTokenizer.from_pretrained(model_name)\n",
    "model = BertForSequenceClassification.from_pretrained(model_name, num_labels=3)\n",
    "\n",
    "# Tokenize dữ liệu\n",
    "tokenized_train_texts = tokenizer.batch_encode_plus(\n",
    "    X_train,\n",
    "    add_special_tokens=True,\n",
    "    return_tensors='pt',\n",
    "    pad_to_max_length=True,\n",
    "    truncation=True\n",
    ")\n",
    "\n",
    "tokenized_val_texts = tokenizer.batch_encode_plus(\n",
    "    X_val,\n",
    "    add_special_tokens=True,\n",
    "    return_tensors='pt',\n",
    "    pad_to_max_length=True,\n",
    "    truncation=True\n",
    ")\n"
   ]
  },
  {
   "cell_type": "code",
   "execution_count": 30,
   "metadata": {},
   "outputs": [],
   "source": [
    "# Tạo DataLoader cho tập dữ liệu\n",
    "train_dataset = TensorDataset(tokenized_train_texts['input_ids'], tokenized_train_texts['attention_mask'], torch.tensor(y_train))\n",
    "val_dataset = TensorDataset(tokenized_val_texts['input_ids'], tokenized_val_texts['attention_mask'], torch.tensor(y_val))\n",
    "\n",
    "train_loader = DataLoader(train_dataset, batch_size=32)\n",
    "val_loader = DataLoader(val_dataset, batch_size=32)"
   ]
  },
  {
   "cell_type": "code",
   "execution_count": 31,
   "metadata": {},
   "outputs": [],
   "source": [
    "# Huấn luyện mô hình\n",
    "optimizer = torch.optim.AdamW(model.parameters(), lr=1e-5)\n",
    "\n",
    "for epoch in range(5):\n",
    "    model.train()\n",
    "    for batch in train_loader:\n",
    "        input_ids, attention_mask, labels = batch\n",
    "        optimizer.zero_grad()\n",
    "        outputs = model(input_ids, attention_mask=attention_mask, labels=labels)\n",
    "        loss = outputs.loss\n",
    "        loss.backward()\n",
    "        optimizer.step()\n"
   ]
  },
  {
   "cell_type": "code",
   "execution_count": null,
   "metadata": {},
   "outputs": [],
   "source": [
    "# Đánh giá mô hình trên tập kiểm định\n",
    "model.eval()\n",
    "val_preds = []\n",
    "val_labels = []\n",
    "for batch in val_loader:\n",
    "    input_ids, attention_mask, labels = batch\n",
    "    with torch.no_grad():\n",
    "        outputs = model(input_ids, attention_mask=attention_mask)\n",
    "    logits = outputs.logits\n",
    "    _, predicted_labels = torch.max(logits, dim=1)\n",
    "    val_preds.extend(predicted_labels.tolist())\n",
    "    val_labels.extend(labels.tolist())\n",
    "\n",
    "print(\"Evaluation on Validation Set:\")\n",
    "print(classification_report(val_labels, val_preds))\n"
   ]
  },
  {
   "cell_type": "code",
   "execution_count": null,
   "metadata": {},
   "outputs": [],
   "source": []
  }
 ],
 "metadata": {
  "kernelspec": {
   "display_name": "base",
   "language": "python",
   "name": "python3"
  },
  "language_info": {
   "codemirror_mode": {
    "name": "ipython",
    "version": 3
   },
   "file_extension": ".py",
   "mimetype": "text/x-python",
   "name": "python",
   "nbconvert_exporter": "python",
   "pygments_lexer": "ipython3",
   "version": "3.10.9"
  }
 },
 "nbformat": 4,
 "nbformat_minor": 2
}
